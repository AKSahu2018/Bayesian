{
 "cells": [
  {
   "cell_type": "markdown",
   "metadata": {},
   "source": [
    "## Outlier Analysis"
   ]
  },
  {
   "cell_type": "code",
   "execution_count": 31,
   "metadata": {
    "collapsed": true
   },
   "outputs": [],
   "source": [
    "# Set the working directory\n",
    "import pandas as pd\n",
    "import matplotlib.pyplot as plt\n",
    "import numpy as np"
   ]
  },
  {
   "cell_type": "code",
   "execution_count": 178,
   "metadata": {},
   "outputs": [],
   "source": [
    "## Main function which will be called :\n",
    "## \n",
    "## Inputs: 1. df - dataframe to be analysed\n",
    "##         2. iqrLevel - Level to cal bench marks = 1.5 default    \n",
    "\n",
    "## Retuns: Dataframe with summary of outliers present in the original dataframe\n",
    "\n",
    "def Outlier_Analysis(df,iqrLevel):  #Inputs are dataframe and level to cal bench marks = 1.5 default\n",
    "    # Step 1: Split numeric data into separate df\n",
    "    num_data = df.select_dtypes(include=[np.number])\n",
    "    dict_UBLB ={}\n",
    "    dict_LogUbLb ={}    \n",
    "    DataFrameDict={}\n",
    "    Temp_DataFrameDict1={}\n",
    "    li=[]\n",
    "    # Creating dictionary to avoid multiple calls to Method CalUbLB\n",
    "    dict_UBLB= CalUbLB(num_data,iqrLevel,0,li)    \n",
    "    Temp_DataFrameDict1 ={'Variable_Name':num_data.columns,'Total_UBLB_Outlier':np.add(dict_UBLB['Count_UB'],dict_UBLB['Count_LB']) }                                                                                       \n",
    "    data = pd.DataFrame(data = Temp_DataFrameDict1,columns=Temp_DataFrameDict1.keys())\n",
    "    li=data.Variable_Name[data.Total_UBLB_Outlier >0]      \n",
    "    dict_LogUbLb = CalUbLB(num_data,iqrLevel,1,li)    \n",
    "    DataFrameDict ={'Variable_Name':num_data.columns,   \n",
    "                'Count_UB_outliers':dict_UBLB['Count_UB'],\n",
    "                'Count_LB_outliers':dict_UBLB['Count_LB'],           \n",
    "                'Count_LogUB_outliers':dict_LogUbLb['Count_UB'],\n",
    "                'Count_LogLB_outliers':dict_LogUbLb['Count_LB'],\n",
    "                'Total_UBLB_Outlier':np.add(dict_UBLB['Count_UB'],dict_UBLB['Count_LB']), \n",
    "                'Total_LogUBLB':np.add(dict_LogUbLb['Count_UB'],dict_LogUbLb['Count_LB'])}\n",
    "    \n",
    "    return pd.DataFrame(data = DataFrameDict,columns=DataFrameDict.keys())    \n"
   ]
  },
  {
   "cell_type": "code",
   "execution_count": 179,
   "metadata": {
    "collapsed": true
   },
   "outputs": [],
   "source": [
    "## Inputs: 1. df - dataframe to be analysed\n",
    "##         2. iqrLevel - Level to cal bench marks = 1.5 default\n",
    "##         3. iflogmethod - 1:Flag for Log transformation 0: otherwise\n",
    "\n",
    "## Returns: dictionary for count of UB and LB.\n",
    "def CalUbLB(num_data,iqrLevel,iflogmethod,listVariable):\n",
    "    dict_return ={}\n",
    "    Count_UB=[]\n",
    "    Count_LB=[]\n",
    "   \n",
    "    if iflogmethod== 1:\n",
    "        for i in range(len(num_data.columns)):            \n",
    "            num_data[num_data.columns[i]] = np.where(num_data[num_data.columns[i]] == 0,1,num_data[num_data.columns[i]])\n",
    "        for i in listVariable:\n",
    "            num_data[i] = np.log(num_data[i])        \n",
    "    for i in range(len(num_data.columns)):  \n",
    "        Q1= num_data[num_data.columns[i]].quantile(0.25)\n",
    "        Q3 = num_data[num_data.columns[i]].quantile(0.75)\n",
    "        IQR = Q3 - Q1        \n",
    "        UB = min(max(num_data[num_data.columns[i]]),Q3 + iqrLevel*IQR)        \n",
    "        Count_UB.append(num_data[num_data.columns[i]][num_data[num_data.columns[i]] > UB].count())      \n",
    "        LB = max(min(num_data[num_data.columns[i]]),Q1 - iqrLevel* IQR)\n",
    "        Count_LB.append(num_data[num_data.columns[i]][num_data[num_data.columns[i]] < LB].count())      \n",
    "        dict_return = {'Count_UB':Count_UB, 'Count_LB':Count_LB}        \n",
    "    return dict_return"
   ]
  },
  {
   "cell_type": "code",
   "execution_count": null,
   "metadata": {
    "collapsed": true
   },
   "outputs": [],
   "source": []
  },
  {
   "cell_type": "code",
   "execution_count": 180,
   "metadata": {
    "collapsed": true
   },
   "outputs": [],
   "source": [
    "#import os"
   ]
  },
  {
   "cell_type": "code",
   "execution_count": 181,
   "metadata": {
    "collapsed": true
   },
   "outputs": [],
   "source": [
    "#os.chdir(\"D:\\Machine Learning\")\n",
    "#cars = pd.read_csv(\"Attrition.csv\")"
   ]
  },
  {
   "cell_type": "code",
   "execution_count": 183,
   "metadata": {},
   "outputs": [],
   "source": [
    "#xs = Outlier_Analysis(cars,1.5)\n",
    "#xs"
   ]
  },
  {
   "cell_type": "code",
   "execution_count": null,
   "metadata": {
    "collapsed": true
   },
   "outputs": [],
   "source": []
  },
  {
   "cell_type": "code",
   "execution_count": null,
   "metadata": {
    "collapsed": true
   },
   "outputs": [],
   "source": []
  }
 ],
 "metadata": {
  "kernelspec": {
   "display_name": "Python 3",
   "language": "python",
   "name": "python3"
  },
  "language_info": {
   "codemirror_mode": {
    "name": "ipython",
    "version": 3
   },
   "file_extension": ".py",
   "mimetype": "text/x-python",
   "name": "python",
   "nbconvert_exporter": "python",
   "pygments_lexer": "ipython3",
   "version": "3.6.3"
  }
 },
 "nbformat": 4,
 "nbformat_minor": 2
}
